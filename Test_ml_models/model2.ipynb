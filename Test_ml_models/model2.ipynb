{
 "cells": [
  {
   "cell_type": "code",
   "execution_count": 1,
   "metadata": {},
   "outputs": [
    {
     "name": "stderr",
     "output_type": "stream",
     "text": [
      "c:\\Python3.10\\lib\\site-packages\\tqdm\\auto.py:21: TqdmWarning: IProgress not found. Please update jupyter and ipywidgets. See https://ipywidgets.readthedocs.io/en/stable/user_install.html\n",
      "  from .autonotebook import tqdm as notebook_tqdm\n"
     ]
    },
    {
     "name": "stdout",
     "output_type": "stream",
     "text": [
      "WARNING:tensorflow:From c:\\Python3.10\\lib\\site-packages\\keras\\src\\losses.py:2976: The name tf.losses.sparse_softmax_cross_entropy is deprecated. Please use tf.compat.v1.losses.sparse_softmax_cross_entropy instead.\n",
      "\n"
     ]
    }
   ],
   "source": [
    "import clip\n",
    "import torch\n",
    "import cv2\n",
    "import os\n",
    "from PIL import Image\n",
    "import numpy as np\n",
    "from tensorflow.keras.models import load_model\n",
    "from fastapi import FastAPI, UploadFile, File\n",
    "from fastapi.responses import JSONResponse\n",
    "from fastapi.middleware.cors import CORSMiddleware\n",
    "\n",
    "def process_image(image_data):\n",
    "        # Load CLIP model\n",
    "    model, preprocess_model = clip.load(\"ViT-L/14\")\n",
    "    model.eval()\n",
    "\n",
    "    # Check if CLIP model is available\n",
    "    if \"ViT-L/14\" in clip.available_models():\n",
    "        print(\"Model Found\")\n",
    "    else:\n",
    "        print(\"Model not found\")\n",
    "\n",
    "    # Load your Keras model\n",
    "    model_lc = load_model(\"model_lc.h5\")\n",
    "    img = cv2.imread(image_data)\n",
    "    img = Image.fromarray(img)\n",
    "    img = preprocess_model(img)\n",
    "    img_batch = torch.unsqueeze(img, 0)\n",
    "    device = torch.device(\"cuda\" if torch.cuda.is_available() else \"cpu\")\n",
    "    model = model.to(device)\n",
    "    img_batch = img_batch.to(device)\n",
    "    with torch.no_grad():\n",
    "        img_encoding = model.encode_image(img_batch).float()\n",
    "    img_encoding_np = img_encoding.cpu().numpy()\n",
    "    prediction = model_lc.predict(img_encoding_np)\n",
    "    # Convert the prediction to a string before returning\n",
    "    if float(prediction[0][0])<0.5:\n",
    "        out=\"REAL\"\n",
    "    else:\n",
    "        out=\"FAKE\"\n",
    "    return out"
   ]
  },
  {
   "cell_type": "code",
   "execution_count": 6,
   "metadata": {},
   "outputs": [
    {
     "name": "stderr",
     "output_type": "stream",
     "text": [
      "INFO:     Started server process [14864]\n",
      "INFO:     Waiting for application startup.\n",
      "INFO:     Application startup complete.\n",
      "INFO:     Uvicorn running on http://127.0.0.1:8000 (Press CTRL+C to quit)\n"
     ]
    },
    {
     "name": "stdout",
     "output_type": "stream",
     "text": [
      "INFO:     127.0.0.1:52251 - \"POST /predict HTTP/1.1\" 400 Bad Request\n",
      "INFO:     127.0.0.1:52774 - \"POST /predict HTTP/1.1\" 400 Bad Request\n",
      "INFO:     127.0.0.1:52811 - \"POST /predict HTTP/1.1\" 400 Bad Request\n"
     ]
    },
    {
     "name": "stderr",
     "output_type": "stream",
     "text": [
      "INFO:     Shutting down\n",
      "INFO:     Waiting for application shutdown.\n",
      "INFO:     Application shutdown complete.\n",
      "INFO:     Finished server process [14864]\n"
     ]
    }
   ],
   "source": [
    "app = FastAPI()\n",
    "origins = [\n",
    "    \"http://localhost:3000\",  # Add other allowed origins as needed\n",
    "]\n",
    "\n",
    "app.add_middleware(\n",
    "    CORSMiddleware,\n",
    "    allow_origins=origins,\n",
    "    allow_credentials=True,\n",
    "    allow_methods=[\"*\"],\n",
    "    allow_headers=[\"*\"],\n",
    ")\n",
    "@app.post(\"/predict\")\n",
    "async def predict(file: UploadFile = File(...)):\n",
    "    filename = 'temp.png'\n",
    "    with open(filename, 'wb') as f:\n",
    "        f.write(await file.read())\n",
    "    prediction = process_image(filename)\n",
    "    os.remove(filename)\n",
    "    print(prediction)\n",
    "    return JSONResponse(content={\"prediction\": prediction}, media_type=\"application/json\")\n",
    "\n",
    "import asyncio\n",
    "import uvicorn\n",
    "\n",
    "if __name__==\"__main__\":\n",
    "    config = uvicorn.Config(app)\n",
    "    server = uvicorn.Server(config)\n",
    "    await server.serve()"
   ]
  },
  {
   "cell_type": "code",
   "execution_count": 7,
   "metadata": {},
   "outputs": [],
   "source": [
    "import clip\n",
    "import torch\n",
    "import cv2\n",
    "import os\n",
    "from PIL import Image\n",
    "import numpy as np\n",
    "from tensorflow.keras.models import load_model\n",
    "from fastapi import FastAPI, UploadFile, File\n",
    "from fastapi.responses import JSONResponse\n",
    "from fastapi.middleware.cors import CORSMiddleware\n",
    "\n",
    "def process_image(image_data):\n",
    "        # Load CLIP model\n",
    "    model, preprocess_model = clip.load(\"ViT-L/14\")\n",
    "    model.eval()\n",
    "\n",
    "    # Check if CLIP model is available\n",
    "    if \"ViT-L/14\" in clip.available_models():\n",
    "        print(\"Model Found\")\n",
    "    else:\n",
    "        print(\"Model not found\")\n",
    "\n",
    "    # Load your Keras model\n",
    "    model_lc = load_model(\"model_lc.h5\")\n",
    "    img = cv2.imread(image_data)\n",
    "    img = Image.fromarray(img)\n",
    "    img = preprocess_model(img)\n",
    "    img_batch = torch.unsqueeze(img, 0)\n",
    "    device = torch.device(\"cuda\" if torch.cuda.is_available() else \"cpu\")\n",
    "    model = model.to(device)\n",
    "    img_batch = img_batch.to(device)\n",
    "    with torch.no_grad():\n",
    "        img_encoding = model.encode_image(img_batch).float()\n",
    "    img_encoding_np = img_encoding.cpu().numpy()\n",
    "    prediction = model_lc.predict(img_encoding_np)\n",
    "    # Convert the prediction to a string before returning\n",
    "    if float(prediction[0][0])<0.5:\n",
    "        out=\"REAL\"\n",
    "    else:\n",
    "        out=\"FAKE\"\n",
    "    return out\n"
   ]
  },
  {
   "cell_type": "code",
   "execution_count": 8,
   "metadata": {},
   "outputs": [
    {
     "name": "stdout",
     "output_type": "stream",
     "text": [
      "Model Found\n",
      "WARNING:tensorflow:From c:\\Python3.10\\lib\\site-packages\\keras\\src\\backend.py:1398: The name tf.executing_eagerly_outside_functions is deprecated. Please use tf.compat.v1.executing_eagerly_outside_functions instead.\n",
      "\n",
      "1/1 [==============================] - 0s 292ms/step\n"
     ]
    },
    {
     "data": {
      "text/plain": [
       "'FAKE'"
      ]
     },
     "execution_count": 8,
     "metadata": {},
     "output_type": "execute_result"
    }
   ],
   "source": [
    "process_image(\"C:\\\\Users\\\\vishn\\\\Desktop\\\\FrostHack\\\\FrostHack\\\\photo.jpg\")"
   ]
  },
  {
   "cell_type": "code",
   "execution_count": 12,
   "metadata": {},
   "outputs": [
    {
     "name": "stderr",
     "output_type": "stream",
     "text": [
      "INFO:     Started server process [14864]\n",
      "INFO:     Waiting for application startup.\n",
      "INFO:     Application startup complete.\n",
      "INFO:     Uvicorn running on http://127.0.0.1:8000 (Press CTRL+C to quit)\n"
     ]
    },
    {
     "name": "stdout",
     "output_type": "stream",
     "text": [
      "INFO:     127.0.0.1:61314 - \"POST /predict HTTP/1.1\" 400 Bad Request\n"
     ]
    }
   ],
   "source": [
    "app = FastAPI()\n",
    "origins = [\n",
    "    \"http://localhost:3000\",  # Add other allowed origins as needed\n",
    "]\n",
    "\n",
    "app.add_middleware(\n",
    "    CORSMiddleware,\n",
    "    allow_origins=origins,\n",
    "    allow_credentials=True,\n",
    "    allow_methods=[\"*\"],\n",
    "    allow_headers=[\"*\"],\n",
    ")\n",
    "@app.post(\"/predict\")\n",
    "async def predict(file: UploadFile = File(...)):\n",
    "    filename = 'temp.png'\n",
    "    with open(filename, 'wb') as f:\n",
    "        f.write(await file.read())\n",
    "    prediction = await process_image(filename)\n",
    "    os.remove(filename)\n",
    "    print(prediction)\n",
    "    return JSONResponse(content={\"prediction\": prediction}, media_type=\"application/json\")\n",
    "\n",
    "import asyncio\n",
    "import uvicorn\n",
    "\n",
    "if __name__==\"__main__\":\n",
    "    config = uvicorn.Config(app)\n",
    "    server = uvicorn.Server(config)\n",
    "    await server.serve()"
   ]
  }
 ],
 "metadata": {
  "kernelspec": {
   "display_name": "Python 3",
   "language": "python",
   "name": "python3"
  },
  "language_info": {
   "codemirror_mode": {
    "name": "ipython",
    "version": 3
   },
   "file_extension": ".py",
   "mimetype": "text/x-python",
   "name": "python",
   "nbconvert_exporter": "python",
   "pygments_lexer": "ipython3",
   "version": "3.10.0"
  }
 },
 "nbformat": 4,
 "nbformat_minor": 2
}
